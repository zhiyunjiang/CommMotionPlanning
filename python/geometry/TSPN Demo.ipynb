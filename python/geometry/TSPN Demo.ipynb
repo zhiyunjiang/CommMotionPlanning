{
 "cells": [
  {
   "cell_type": "markdown",
   "id": "d30a2ac9",
   "metadata": {},
   "source": [
    "# Traveling Salesperson Problem with Neighborhoods\n",
    "\n",
    "## Approaches\n",
    "- Brute Force (Exact)\n",
    "- Dynamic Programming (Exact)\n",
    "- Simulated Annealing (Approx)\n",
    "- Genetic Algo (Approx)\n",
    "- RaceTrack (Approx)\n"
   ]
  },
  {
   "cell_type": "code",
   "execution_count": 1,
   "id": "e18c19b7",
   "metadata": {},
   "outputs": [],
   "source": []
  },
  {
   "cell_type": "code",
   "execution_count": null,
   "id": "b8f52416",
   "metadata": {},
   "outputs": [],
   "source": []
  }
 ],
 "metadata": {
  "kernelspec": {
   "display_name": "Python 3 (ipykernel)",
   "language": "python",
   "name": "python3"
  },
  "language_info": {
   "codemirror_mode": {
    "name": "ipython",
    "version": 3
   },
   "file_extension": ".py",
   "mimetype": "text/x-python",
   "name": "python",
   "nbconvert_exporter": "python",
   "pygments_lexer": "ipython3",
   "version": "3.8.10"
  }
 },
 "nbformat": 4,
 "nbformat_minor": 5
}
