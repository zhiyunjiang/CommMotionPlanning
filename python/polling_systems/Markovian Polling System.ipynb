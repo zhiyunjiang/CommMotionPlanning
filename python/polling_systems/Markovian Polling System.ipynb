{
 "cells": [
  {
   "cell_type": "code",
   "execution_count": 1,
   "metadata": {},
   "outputs": [],
   "source": [
    "import PollingSystem as PS\n",
    "import MarkovianRP as MRP\n",
    "import StaticRP as SRP\n",
    "import numpy as np\n",
    "\n",
    "from matplotlib import pyplot as plt\n",
    "from importlib import reload "
   ]
  },
  {
   "cell_type": "code",
   "execution_count": 19,
   "metadata": {
    "scrolled": true
   },
   "outputs": [
    {
     "name": "stdout",
     "output_type": "stream",
     "text": [
      "[[0.00000000e+00 9.99419786e-01 5.80213768e-04]\n",
      " [5.15567588e-04 0.00000000e+00 9.99484432e-01]\n",
      " [9.99298997e-01 7.01002608e-04 0.00000000e+00]]\n",
      "1.5325117963594967\n",
      "1.8755369415807563\n",
      "1.8660120411356085\n"
     ]
    }
   ],
   "source": [
    "reload(PS)\n",
    "beta = 1/16\n",
    "els = np.array([0.01, 0.01, 0.01])/beta\n",
    "#els = np.array([0.3, 0.1, 0.1])/beta\n",
    "ps = PS.PollingSystem(els, beta)\n",
    "#S = np.array([[ 0.        , 11.01635149, 14.27059899],\n",
    "#        [11.01635149,  0.        , 17.132717  ],\n",
    "#        [14.27059899, 17.132717  ,  0.        ]])\n",
    "\n",
    "S = np.array([[0,1,1],[1,0,1],[1,1,0]])\n",
    "\n",
    "P_opt, W_opt = (ps._calc_optiaml_markovian_rp(S))\n",
    "print(P_opt)\n",
    "#normalize so no self transitions\n",
    "print(W_opt)\n",
    "\n",
    "\n",
    "P = np.array([[0, 0.5, 0.5],\n",
    "              [0.5, 0, 0.5],\n",
    "              [0.5, 0.5, 0]])\n",
    "rp = MRP.MarkovianRP(P)\n",
    "print(ps.calc_avg_wait(S, rp))\n",
    "hrs = 1\n",
    "mins = hrs*60\n",
    "seconds = mins*60\n",
    "xt, wt, queues, _, avg_switching, polling_instants, T = ps.simulate(rp, S, seconds)\n",
    "\n",
    "print(wt[-1][1])"
   ]
  },
  {
   "cell_type": "code",
   "execution_count": null,
   "metadata": {},
   "outputs": [],
   "source": [
    "print(\"Empirical backward recurrence times:\\n\", T)\n",
    "print(\"Thr backward recurrence times:\\n\", ps._T_bar_Markovian(S, P))"
   ]
  },
  {
   "cell_type": "code",
   "execution_count": null,
   "metadata": {},
   "outputs": [],
   "source": [
    "print(ps._stage_durations_mrk(S, P))\n",
    "#calculate empirical stage durations\n",
    "total_durations = np.zeros(3)\n",
    "counts = np.zeros(3)\n",
    "for i in range(len(polling_instants)-1):\n",
    "    pli = polling_instants[i]\n",
    "    nxtpli = polling_instants[i+1]\n",
    "    q = pli[1]\n",
    "    counts[q] += 1\n",
    "    total_durations[q]+= nxtpli[0] - pli[0] - S[q, nxtpli[1]]\n",
    "    \n",
    "print(total_durations/counts)"
   ]
  },
  {
   "cell_type": "code",
   "execution_count": null,
   "metadata": {},
   "outputs": [],
   "source": [
    "plgis = np.array(polling_instants)\n",
    "xt = np.array(xt)\n",
    "pi = np.array([1/3, 1/3, 1/3])\n",
    "Lbarmc = 0\n",
    "sys_lengths = []\n",
    "sys_lengths_i = []\n",
    "lbar_i_given_i = np.zeros(3)\n",
    "for i in range(len(plgis)):\n",
    "    inst = plgis[i,0]\n",
    "    z = int(plgis[i,1])\n",
    "    idx = np.where(xt[:,0]==inst)\n",
    "#     print(idx)\n",
    "    idx = idx[0][0]\n",
    "    sys_lengths.append(sum(xt[idx,2:]))\n",
    "    sys_lengths_i.append(xt[idx,2:])\n",
    "    lbar_i_given_i[z] += xt[idx, 2+z]\n",
    "    Lbarmc += sys_lengths[-1]\n",
    "\n",
    "print(\"Lbar MC Emp: %.4f\"%(Lbarmc/len(plgis)))\n",
    "Lmc = ps._LSys_mc_avg(S, pi)\n",
    "print(\"lbar mc thr: %.4f\"%(Lmc))\n",
    "\n",
    "\n",
    "sys_lengths_i = np.array(sys_lengths_i)\n",
    "for i in range(3):\n",
    "    print(\"Emp Lbar mc at %d given %d: %.4f\"%(i, i, lbar_i_given_i[i]/counts[i] ))\n",
    "    print(\"Thr Lbar mc at %d given %d: %.4f\"%(i, i, ps._Li_mc_avg_at_i(S, P,i)))"
   ]
  },
  {
   "cell_type": "code",
   "execution_count": null,
   "metadata": {},
   "outputs": [],
   "source": [
    "ps._calc_optiaml_markovian_rp(S)"
   ]
  },
  {
   "cell_type": "code",
   "execution_count": null,
   "metadata": {},
   "outputs": [],
   "source": [
    "x0 = ps._opt_pi_equal_distances()\n",
    "y = np.tile(x0,3)\n",
    "def shape(x):\n",
    "    return np.reshape(x, (3, 3))\n",
    "shape(y)"
   ]
  },
  {
   "cell_type": "code",
   "execution_count": 8,
   "metadata": {},
   "outputs": [
    {
     "data": {
      "text/plain": [
       "array([[0.1       , 0.4       , 0.5       ],\n",
       "       [0.2       , 0.33333333, 0.46666667],\n",
       "       [0.33333333, 0.33333333, 0.33333333]])"
      ]
     },
     "execution_count": 8,
     "metadata": {},
     "output_type": "execute_result"
    }
   ],
   "source": [
    "P = np.array([[1,4,5],[0.3, 0.5, 0.7],[1, 1, 1]])\n",
    "(P.T/np.sum(P, axis=1)).T"
   ]
  },
  {
   "cell_type": "code",
   "execution_count": 7,
   "metadata": {},
   "outputs": [
    {
     "data": {
      "text/plain": [
       "array([10. ,  1.5,  3. ])"
      ]
     },
     "execution_count": 7,
     "metadata": {},
     "output_type": "execute_result"
    }
   ],
   "source": [
    "np.sum(P, axis=1).T"
   ]
  },
  {
   "cell_type": "code",
   "execution_count": 23,
   "metadata": {},
   "outputs": [
    {
     "data": {
      "text/plain": [
       "array([[1, 4, 5],\n",
       "       [1, 4, 5],\n",
       "       [1, 4, 5]])"
      ]
     },
     "execution_count": 23,
     "metadata": {},
     "output_type": "execute_result"
    }
   ],
   "source": [
    "pi = np.array([1,4,5])\n",
    "np.tile(pi, (3,1))"
   ]
  },
  {
   "cell_type": "code",
   "execution_count": null,
   "metadata": {},
   "outputs": [],
   "source": []
  }
 ],
 "metadata": {
  "kernelspec": {
   "display_name": "Python 3 (ipykernel)",
   "language": "python",
   "name": "python3"
  },
  "language_info": {
   "codemirror_mode": {
    "name": "ipython",
    "version": 3
   },
   "file_extension": ".py",
   "mimetype": "text/x-python",
   "name": "python",
   "nbconvert_exporter": "python",
   "pygments_lexer": "ipython3",
   "version": "3.8.10"
  }
 },
 "nbformat": 4,
 "nbformat_minor": 4
}
