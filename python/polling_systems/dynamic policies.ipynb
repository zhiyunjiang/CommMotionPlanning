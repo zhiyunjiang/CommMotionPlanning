{
 "cells": [
  {
   "cell_type": "code",
   "execution_count": 1,
   "id": "2f4a2cbd",
   "metadata": {},
   "outputs": [],
   "source": [
    "import PollingSystem as ps\n",
    "import StaticRP as srp\n",
    "import MarkovianRP as mrp\n",
    "import dynamic_rp as drp\n",
    "\n",
    "import numpy as np"
   ]
  },
  {
   "cell_type": "code",
   "execution_count": 2,
   "id": "62bea266",
   "metadata": {},
   "outputs": [],
   "source": [
    "#set up a simple, symmetric polling system\n",
    "sys_traffic = 0.1\n",
    "beta = 1\n",
    "lambdas = np.array([1/3, 1/3, 1/3])*sys_traffic/beta\n",
    "sym_sys = ps.PollingSystem(lambdas, beta)\n",
    "S = np.array([[0, 3, 3],\n",
    "              [3, 0, 3],\n",
    "              [3, 3, 0]])"
   ]
  },
  {
   "cell_type": "code",
   "execution_count": 3,
   "id": "a105c867",
   "metadata": {},
   "outputs": [
    {
     "name": "stdout",
     "output_type": "stream",
     "text": [
      "[0.33333333 0.33333333 0.33333333] 6.000000000000001\n"
     ]
    },
    {
     "name": "stderr",
     "output_type": "stream",
     "text": [
      "/home/win/.local/lib/python3.8/site-packages/scipy/optimize/optimize.py:282: RuntimeWarning: Values in x were outside bounds during a minimize step, clipping to bounds\n",
      "  warnings.warn(\"Values in x were outside bounds during a \"\n"
     ]
    },
    {
     "name": "stdout",
     "output_type": "stream",
     "text": [
      "[[0.00000000e+00 9.99385772e-01 6.14228413e-04]\n",
      " [6.72262528e-04 0.00000000e+00 9.99327737e-01]\n",
      " [9.99357898e-01 6.42102422e-04 0.00000000e+00]] 4.891031774109361\n"
     ]
    }
   ],
   "source": [
    "pi, w_rnd = sym_sys.calc_optimal_rp(S, rp_type = 0)\n",
    "print(pi, w_rnd)\n",
    "static_rand = mrp.RandomRP(pi)\n",
    "P, w_mrkv = sym_sys.calc_optimal_rp(S, rp_type = 1)\n",
    "print(P, w_mrkv)\n",
    "static_markov = mrp.MarkovianRP(P)"
   ]
  },
  {
   "cell_type": "code",
   "execution_count": 4,
   "id": "479b13a1",
   "metadata": {},
   "outputs": [
    {
     "name": "stdout",
     "output_type": "stream",
     "text": [
      "[0.33333333 0.33333333 0.33333333]\n",
      "[1. 1. 1.]\n",
      "3\n",
      "[1. 1. 1.]\n",
      "[0.61803399 0.23606798 0.85410197]\n"
     ]
    }
   ],
   "source": [
    "table_policy = srp.MinSSRPFromPis(pi, S)\n",
    "cyclic_policy = srp.StaticRP(np.array([0,1,2]))"
   ]
  },
  {
   "cell_type": "code",
   "execution_count": 5,
   "id": "1cb526c7",
   "metadata": {},
   "outputs": [],
   "source": [
    "simple_rule = drp.DPRP(lambdas, beta, S, drp.shortest_lengths)\n",
    "simple_rule_time_diffs = drp.DPRP(lambdas, beta, S, drp.shortest_lengths, fully_observed = False)"
   ]
  },
  {
   "cell_type": "code",
   "execution_count": 6,
   "id": "877951a3",
   "metadata": {},
   "outputs": [
    {
     "name": "stdout",
     "output_type": "stream",
     "text": [
      "6.1285548840046635\n",
      "4.857931773618174\n",
      "4.900028127895295\n",
      "4.881923991241851\n",
      "3.8991426733479226\n",
      "4.937150246312673\n"
     ]
    }
   ],
   "source": [
    "#now simulate and compare\n",
    "t = 2*60*60\n",
    "xt1, wt1, _, _, _, _, _  = sym_sys.simulate(static_rand, S, t)\n",
    "print(wt1[-1][1])\n",
    "xt2, wt2, _, _, _, _, _  = sym_sys.simulate(static_markov, S, t)\n",
    "print(wt2[-1][1])\n",
    "xt3, wt3, _, _, _, _, _  = sym_sys.simulate(table_policy, S, t)\n",
    "print(wt3[-1][1])\n",
    "xt4, wt4, _, _, _, _, _  = sym_sys.simulate(cyclic_policy, S, t)\n",
    "print(wt4[-1][1])\n",
    "xt5, wt5, _, _, _, _, _  = sym_sys.simulate(simple_rule, S, t)\n",
    "print(wt5[-1][1])\n",
    "xt6, wt6, _, _, _, _, _  = sym_sys.simulate(simple_rule_time_diffs, S, t, fully_observed = False)\n",
    "print(wt6[-1][1])"
   ]
  },
  {
   "cell_type": "code",
   "execution_count": 7,
   "id": "6db29d69",
   "metadata": {},
   "outputs": [],
   "source": [
    "#now run VI to find a nice little DP program to help us out here\n",
    "\n",
    "class DPVI:\n",
    "    \n",
    "    def __init__(self, psys, S, max_length = 100):\n",
    "        self.n = ps.n\n",
    "        self.psys = psys\n",
    "        self.S = S\n",
    "#         self.argmins = -1*np.ones((n, max_length, max_length, max_length))\n",
    "        self.Q = -1*np.ones((n, max_length, max_length, max_length, n))\n",
    "        \n",
    "        \n",
    "    def vi(self):\n",
    "        pass"
   ]
  }
 ],
 "metadata": {
  "kernelspec": {
   "display_name": "Python 3 (ipykernel)",
   "language": "python",
   "name": "python3"
  },
  "language_info": {
   "codemirror_mode": {
    "name": "ipython",
    "version": 3
   },
   "file_extension": ".py",
   "mimetype": "text/x-python",
   "name": "python",
   "nbconvert_exporter": "python",
   "pygments_lexer": "ipython3",
   "version": "3.8.10"
  }
 },
 "nbformat": 4,
 "nbformat_minor": 5
}
