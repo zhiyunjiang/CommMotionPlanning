{
 "cells": [
  {
   "cell_type": "code",
   "execution_count": 1,
   "id": "beeacde6",
   "metadata": {},
   "outputs": [
    {
     "data": {
      "application/javascript": [
       "if (!(\"Notification\" in window)) {\n",
       "    alert(\"This browser does not support desktop notifications, so the %%notify magic will not work.\");\n",
       "} else if (Notification.permission !== 'granted' && Notification.permission !== 'denied') {\n",
       "    Notification.requestPermission(function (permission) {\n",
       "        if(!('permission' in Notification)) {\n",
       "            Notification.permission = permission;\n",
       "        }\n",
       "    })\n",
       "}\n"
      ],
      "text/plain": [
       "<IPython.core.display.Javascript object>"
      ]
     },
     "metadata": {},
     "output_type": "display_data"
    }
   ],
   "source": [
    "%load_ext jupyternotify\n",
    "\n",
    "import numpy as np\n",
    "import matplotlib\n",
    "#allow for latex markup in matplotlib figures\n",
    "matplotlib.rcParams['text.usetex'] = False\n",
    "from matplotlib import pyplot as plt\n",
    "from matplotlib.colors import ListedColormap\n",
    "\n",
    "\n",
    "#Import a few utility functions...\n",
    "import sys  \n",
    "from pathlib import Path\n",
    "sys.path.insert(0, \"../comm_channel\")\n",
    "sys.path.insert(0, \"../polling_systems\")\n",
    "sys.path.insert(0, \"../geometry\")\n",
    "sys.path.insert(0, \"../utils\")\n",
    "\n",
    "#So we can import my local libs\n",
    "import CommChannel as CC\n",
    "import qos\n",
    "import pointcloud as PC\n",
    "import TSPN\n",
    "import PollingSystem as PS\n",
    "import MarkovianRP as MRP\n",
    "import dtr\n",
    "import motion\n",
    "import shot_solvers as SHOT\n",
    "\n",
    "import sim_template as sim\n",
    "from importlib import reload "
   ]
  },
  {
   "cell_type": "code",
   "execution_count": 2,
   "id": "44ef8cbc",
   "metadata": {},
   "outputs": [
    {
     "name": "stdout",
     "output_type": "stream",
     "text": [
      "20.000000 dBm\t-10.000000 dBW\t100.000000 mW\t0.100000 W\n",
      "-85.000000 dBm\t-115.000000 dBW\t0.000000 mW\t0.000000 W\n",
      "-71.8297512825111\n",
      "SNR Threshold: 33\n"
     ]
    }
   ],
   "source": [
    "#setup quality of service requirements using reasonable values\n",
    "F5GHz, F2_4GHz = 5, 2.4 #typical wifi frequencies are 2.4, 5, and sometiems 6 GHz\n",
    "MOBILE_TX_POWER = qos.Pwr(20)#100-200mW (20-23 dBm) pretty typical, with 1W (30dBm) the absolute maximum\n",
    "print(MOBILE_TX_POWER)\n",
    "r = 8#any of 2, 4, 6, or 8\n",
    "rx_noise = qos.Pwr(-85)#based on Yan and MostofiTWC13 #1e-10#\n",
    "print(rx_noise)\n",
    "BER = 1e-6\n",
    "GAMMA_TH = qos.QoSReq(BER, r, rx_noise).thresholdChannelGain(MOBILE_TX_POWER)\n",
    "print(GAMMA_TH)\n",
    "print('SNR Threshold: %d'%(GAMMA_TH+MOBILE_TX_POWER.dBm - rx_noise.dBm))"
   ]
  },
  {
   "cell_type": "code",
   "execution_count": 3,
   "id": "749976bf",
   "metadata": {},
   "outputs": [
    {
     "name": "stdout",
     "output_type": "stream",
     "text": [
      "0.0625\n",
      "[4.8, 3.2, 4.8, 0.16, 0.16, 0.32]\n"
     ]
    }
   ],
   "source": [
    "#Setup the communication environment:\n",
    "\n",
    "#For now, use same channel params\n",
    "nPL = 5.2\n",
    "kPL = -20\n",
    "\n",
    "decorrSH = 2.09  \n",
    "alpha = 16\n",
    "sigmaSH = np.sqrt(alpha)\n",
    "psdAtFC = 30\n",
    "\n",
    "lam = 0.125\n",
    "kRic = 10\n",
    "decorrMP = 0.4*lam         \n",
    "corrMP = 1\n",
    "#sigmaMP = 3\n",
    "sigmaMP = 1.5\n",
    "\n",
    "\n",
    "#12 remote stations\n",
    "l = 11\n",
    "qBase = np.array([[2,6],[21,4],\n",
    "                 [16,11],[28,23],\n",
    "                 [10,22],[11,39],\n",
    "                 [30, 11],[48, 8],\n",
    "                 [18, 36],[35, 41],\n",
    "                 [32, 33],[48, 25]])\n",
    "\n",
    "sub_regions = [[25,0,10,0],\n",
    "               [30,10, 25, 9],\n",
    "               [20,0, 40, 17],\n",
    "               [50, 25, 15, 3],\n",
    "               [38, 15, 45, 27],\n",
    "               [50, 30, 40, 20]]\n",
    "\n",
    "\n",
    "x_max = 50\n",
    "x_min = 0\n",
    "y_max = 50\n",
    "y_min = 0\n",
    "region = [x_max, x_min, y_max, y_min]\n",
    "\n",
    "\n",
    "cps = [CC.ChannelParams(qBase[i], nPL, kPL, sigmaSH, decorrSH, decorrMP, lam,\n",
    "                      kRic, corrMP, psdAtFC, sigmaMP) for i in range(len(qBase))]\n",
    "\n",
    "\n",
    "\n",
    "#res = 2/decorrMP\n",
    "res = 10\n",
    "n = 6\n",
    "p_th = 0.5\n",
    "\n",
    "#Polling System Setup\n",
    "bandwidth = 2#leave bandwidth in MHz*1000000#give ourselfes 2MHz of BW\n",
    "beta = 1/(r*bandwidth)\n",
    "print(beta)\n",
    "els = [0.3/beta, 0.2/beta, 0.3/beta, 0.01/beta, 0.01/beta, 0.02/beta]\n",
    "print(els)"
   ]
  },
  {
   "cell_type": "code",
   "execution_count": 4,
   "id": "bf47c794",
   "metadata": {},
   "outputs": [
    {
     "name": "stdout",
     "output_type": "stream",
     "text": [
      "Generating shadowing...\n",
      "Shadowing generation complete.\n",
      "Generating MP...\n",
      "MP generation complete.\n",
      "Generating shadowing...\n",
      "Shadowing generation complete.\n",
      "Generating MP...\n",
      "MP generation complete.\n",
      "Generating shadowing...\n",
      "Shadowing generation complete.\n",
      "Generating MP...\n",
      "MP generation complete.\n",
      "Generating shadowing...\n",
      "Shadowing generation complete.\n",
      "Generating MP...\n",
      "MP generation complete.\n",
      "Generating shadowing...\n",
      "Shadowing generation complete.\n",
      "Generating MP...\n",
      "MP generation complete.\n",
      "Generating shadowing...\n",
      "Shadowing generation complete.\n",
      "Generating MP...\n",
      "MP generation complete.\n",
      "Generating shadowing...\n",
      "Shadowing generation complete.\n",
      "Generating MP...\n",
      "MP generation complete.\n",
      "Generating shadowing...\n",
      "Shadowing generation complete.\n",
      "Generating MP...\n",
      "MP generation complete.\n",
      "Generating shadowing...\n",
      "Shadowing generation complete.\n",
      "Generating MP...\n",
      "MP generation complete.\n",
      "Generating shadowing...\n",
      "Shadowing generation complete.\n",
      "Generating MP...\n",
      "MP generation complete.\n",
      "Generating shadowing...\n",
      "Shadowing generation complete.\n",
      "Generating MP...\n",
      "MP generation complete.\n",
      "Generating shadowing...\n",
      "Shadowing generation complete.\n",
      "Generating MP...\n",
      "MP generation complete.\n"
     ]
    }
   ],
   "source": [
    "reload(sim)\n",
    "ccs, cfs, true_joint_con_fields, tjcps = sim.create_channels(cps, region, res, GAMMA_TH, sub_regions)"
   ]
  },
  {
   "cell_type": "code",
   "execution_count": null,
   "id": "cff27ef3",
   "metadata": {},
   "outputs": [
    {
     "name": "stdout",
     "output_type": "stream",
     "text": [
      "Drawing 250 samples from Channel 1\n",
      "Completed PredictedChannel 1\n",
      "Drawing 250 samples from Channel 2\n",
      "Completed PredictedChannel 2\n",
      "Drawing 320 samples from Channel 3\n",
      "Completed PredictedChannel 3\n",
      "Drawing 320 samples from Channel 4\n",
      "Completed PredictedChannel 4\n",
      "Drawing 460 samples from Channel 5\n",
      "Completed PredictedChannel 5\n",
      "Drawing 460 samples from Channel 6\n",
      "Completed PredictedChannel 6\n",
      "Drawing 300 samples from Channel 7\n"
     ]
    }
   ],
   "source": [
    "reload(sim)\n",
    "pcs, pfs, pjcps, prob_pred_con = sim.predict_channels(res, ccs, true_joint_con_fields, GAMMA_TH, p_th=p_th)\n",
    "trismall_pcs = pcs\n",
    "\n",
    "print(prob_pred_con)"
   ]
  },
  {
   "cell_type": "code",
   "execution_count": null,
   "id": "9cd0166a",
   "metadata": {},
   "outputs": [],
   "source": [
    "reload(sim)\n",
    "sim.plotCFwithOverlay(n, tjcps, pjcps, qBase, region)\n",
    "plt.gca().invert_yaxis()\n",
    "plt.show()"
   ]
  },
  {
   "cell_type": "code",
   "execution_count": null,
   "id": "6a7eee75",
   "metadata": {},
   "outputs": [],
   "source": [
    "#setup the delay-tolerant relay system\n",
    "reload(dtr)\n",
    "dt_sys = dtr.DTR(pcs, region, els, beta, th=GAMMA_TH, p_th = p_th)"
   ]
  },
  {
   "cell_type": "code",
   "execution_count": null,
   "id": "dda04aba",
   "metadata": {},
   "outputs": [],
   "source": [
    "%store dt_sys"
   ]
  },
  {
   "cell_type": "code",
   "execution_count": null,
   "id": "718a851a",
   "metadata": {
    "scrolled": false
   },
   "outputs": [],
   "source": [
    "#Calculate baseline TSPN policy\n",
    "# import gurobi_solvers as GB\n",
    "# reload(GB)\n",
    "# reload(TSPN)\n",
    "regions = dt_sys.cregions\n",
    "tspn_min, tspn_argmin = TSPN.TSPN_BF(regions)\n",
    "x=tspn_argmin[0]\n",
    "\n",
    "reload(sim)\n",
    "order = list(tspn_argmin[1])\n",
    "order.append(0)#complete the loop\n",
    "sim.plotCFwithOverlay(n, tjcps, pjcps, qBase, region)\n",
    "plt.plot(x[order,0], x[order,1], zorder=100)\n",
    "plt.scatter(x[:,0], x[:,1], zorder = 100)\n",
    "plt.gca().invert_yaxis()\n",
    "plt.show()\n",
    "\n",
    "tspn_argmin[1]"
   ]
  },
  {
   "cell_type": "code",
   "execution_count": null,
   "id": "7aaa5137",
   "metadata": {
    "scrolled": false
   },
   "outputs": [],
   "source": [
    "reload(dtr)\n",
    "reload(sim)\n",
    "\n",
    "vs=[0.2, 1, 5]\n",
    "AORPS=[]\n",
    "for v in vs:\n",
    "    AORPS.append(sim.calc_AORP(dt_sys, v))"
   ]
  },
  {
   "cell_type": "code",
   "execution_count": null,
   "id": "c9905094",
   "metadata": {},
   "outputs": [],
   "source": [
    "# print(AORPs)\n",
    "reload(sim)\n",
    "sim.plot_AORP(dt_sys, AORPS[1], tjcps, pjcps, qBase, region)"
   ]
  },
  {
   "cell_type": "code",
   "execution_count": null,
   "id": "18676799",
   "metadata": {
    "scrolled": false
   },
   "outputs": [],
   "source": [
    "# reload(SHOT)\n",
    "# pi = AORP['pi']\n",
    "# x = AORP['X']\n",
    "# S = np.zeros((n,n))\n",
    "# for i in range(n):\n",
    "#     for j in range(n):\n",
    "#         S[i,j] = np.linalg.norm(x[i] - x[j])\n",
    "\n",
    "# print(pi)\n",
    "# print(S)\n",
    "# P, val = SHOT.min_PWD_over_P(pi, S, verbose = False)\n"
   ]
  },
  {
   "cell_type": "code",
   "execution_count": null,
   "id": "ef866c04",
   "metadata": {
    "scrolled": false
   },
   "outputs": [],
   "source": [
    "%%notify\n",
    "reload(sim)\n",
    "TSPNP={'X':x, 'SEQ':tspn_argmin[1]}\n",
    "hrs = 1\n",
    "mins = 0\n",
    "seconds = 0\n",
    "for i in range(len(vs)):\n",
    "    v = vs[i]\n",
    "    print('Velocity = %f'%(v))\n",
    "    AORP = AORPS[i]\n",
    "    motion_power = motion.LinearMotionPower(7.2, 0.29, v)\n",
    "    sim.run_sims(dt_sys.ps, AORP, TSPNP, hrs, mins, seconds, motion_power, MOBILE_TX_POWER.W, v)\n"
   ]
  },
  {
   "cell_type": "code",
   "execution_count": null,
   "id": "5356e705",
   "metadata": {},
   "outputs": [],
   "source": [
    "# seconds = 60**2\n",
    "# pi = AORP['pi']\n",
    "# S =  dtr.XtoS(AORP['X'],vs[-1])\n",
    "# for a in [0.0001, 0.1, 0.2, 0.5, 0.8, 0.9,0.9999]:    \n",
    "#     mrp = MRP.rnd2P(pi, S, alpha=a)\n",
    "#     MRP_res, MRP_xt = sim.runsimsforpolicy(ps, mrp, S, motion_power, MOBILE_TX_POWER.W, seconds)\n",
    "#     print('MRP\\t---\\t%.2f\\t%.2f\\t%.2f\\t%.2f'%(MRP_res['WT'], MRP_res['E'], MRP_res['MBS'], MRP_res['MBR'] ))"
   ]
  },
  {
   "cell_type": "code",
   "execution_count": null,
   "id": "6a5b7a15",
   "metadata": {},
   "outputs": [],
   "source": [
    "# import StaticRP as SRP\n",
    "# #0.01 is too precise\n",
    "# #0.05 seems \"close enough\"\n",
    "# for e in [0.1, 0.05]:\n",
    "#     rtable = SRP.SRPFromPis(pi, eps=e)\n",
    "#     rtable_res, rtable_xt = sim.runsimsforpolicy(ps, rtable, S, motion_power, MOBILE_TX_POWER.W, seconds)\n",
    "#     print('Tab\\t---\\t%.2f\\t%.2f\\t%.2f\\t%.2f'%(rtable_res['WT'], rtable_res['E'], rtable_res['MBS'], rtable_res['MBR']))"
   ]
  },
  {
   "cell_type": "code",
   "execution_count": null,
   "id": "fb6e8e22",
   "metadata": {
    "scrolled": false
   },
   "outputs": [],
   "source": [
    "reload(sim)\n",
    "sim.plot_TSPNP(dt_sys, TSPNP, tjcps, pjcps, qBase, region)\n",
    "sim.save_plt('six_TSPNP.png')"
   ]
  },
  {
   "cell_type": "code",
   "execution_count": null,
   "id": "d683fe1d",
   "metadata": {},
   "outputs": [],
   "source": [
    "reload(sim)\n",
    "sim.plot_AORP(dt_sys, AORPS[0], tjcps, pjcps, qBase, region)\n",
    "sim.save_plt('six_AORP_v02.png')"
   ]
  },
  {
   "cell_type": "code",
   "execution_count": null,
   "id": "06bf8042",
   "metadata": {},
   "outputs": [],
   "source": [
    "reload(sim)\n",
    "sim.plot_AORP(dt_sys, AORPS[1], tjcps, pjcps, qBase, region)\n",
    "sim.save_plt('six_AORP_v1.png')"
   ]
  },
  {
   "cell_type": "code",
   "execution_count": null,
   "id": "ea95babd",
   "metadata": {
    "scrolled": false
   },
   "outputs": [],
   "source": [
    "reload(sim)\n",
    "sim.plot_AORP(dt_sys, AORPS[2], tjcps, pjcps, qBase, region)\n",
    "sim.save_plt('six_AORP_v5.png')"
   ]
  },
  {
   "cell_type": "code",
   "execution_count": null,
   "id": "3cd786a4",
   "metadata": {},
   "outputs": [],
   "source": [
    "%%notify\n",
    "#####################\n",
    "# Now for the same system, re-run, but for different system lambdas\n",
    "#els2 = [0.15/beta, 0.15/beta, 0.15/beta, 0.15/beta, 0.15/beta, 0.15/beta]\n",
    "els2 = [0.01/beta, 0.01/beta, 0.02/beta, 0.3/beta, 0.2/beta, 0.3/beta]\n",
    "dt_sys.ps = PS.PollingSystem(els2, beta)\n",
    "\n",
    "AORPS2=[]\n",
    "for v in vs:\n",
    "    AORPS2.append(sim.calc_AORP(dt_sys, v))\n",
    "    print('Velocity = %f'%(v))\n",
    "    AORP = AORPS2[-1]\n",
    "    motion_power = motion.LinearMotionPower(7.2, 0.29, v)\n",
    "    sim.run_sims(dt_sys.ps, AORP, TSPNP, hrs, mins, seconds, motion_power, MOBILE_TX_POWER.W, v)\n"
   ]
  },
  {
   "cell_type": "code",
   "execution_count": null,
   "id": "54dca49f",
   "metadata": {},
   "outputs": [],
   "source": [
    "reload(sim)\n",
    "sim.plot_AORP(dt_sys, AORPS2[0], tjcps, pjcps, qBase, region)\n",
    "sim.save_plt('six_AORP_v02_L2.png')"
   ]
  },
  {
   "cell_type": "code",
   "execution_count": null,
   "id": "309001b0",
   "metadata": {},
   "outputs": [],
   "source": [
    "reload(sim)\n",
    "sim.plot_AORP(dt_sys, AORPS2[1], tjcps, pjcps, qBase, region)\n",
    "sim.save_plt('six_AORP_v1_L2.png')"
   ]
  },
  {
   "cell_type": "code",
   "execution_count": null,
   "id": "d101cfe1",
   "metadata": {},
   "outputs": [],
   "source": [
    "reload(sim)\n",
    "sim.plot_AORP(dt_sys, AORPS2[2], tjcps, pjcps, qBase, region)\n",
    "sim.save_plt('six_AORP_v5_L2.png')"
   ]
  },
  {
   "cell_type": "code",
   "execution_count": null,
   "id": "19ccb1a0",
   "metadata": {},
   "outputs": [],
   "source": [
    "%%notify\n",
    "#####################\n",
    "# Now for the same system, re-run, but for different system lambdas\n",
    "els3 = [0.15/beta, 0.15/beta, 0.15/beta, 0.15/beta, 0.15/beta, 0.15/beta]\n",
    "dt_sys.ps = PS.PollingSystem(els3, beta)\n",
    "\n",
    "AORPS3=[]\n",
    "for v in vs:\n",
    "    AORPS3.append(sim.calc_AORP(dt_sys, v))\n",
    "    print('Velocity = %f'%(v))\n",
    "    AORP = AORPS3[-1]\n",
    "    motion_power = motion.LinearMotionPower(7.2, 0.29, v)\n",
    "    sim.run_sims(dt_sys.ps, AORP, TSPNP, hrs, mins, seconds, motion_power, MOBILE_TX_POWER.W, v)\n"
   ]
  },
  {
   "cell_type": "code",
   "execution_count": null,
   "id": "1e81351f",
   "metadata": {},
   "outputs": [],
   "source": [
    "reload(sim)\n",
    "sim.plot_AORP(dt_sys, AORPS2[0], tjcps, pjcps, qBase, region)\n",
    "sim.save_plt('six_AORP_v02_L3.png')"
   ]
  },
  {
   "cell_type": "code",
   "execution_count": null,
   "id": "e79a3fd4",
   "metadata": {},
   "outputs": [],
   "source": [
    "reload(sim)\n",
    "sim.plot_AORP(dt_sys, AORPS2[1], tjcps, pjcps, qBase, region)\n",
    "sim.save_plt('six_AORP_v1_L2.png')"
   ]
  },
  {
   "cell_type": "code",
   "execution_count": null,
   "id": "6d587510",
   "metadata": {},
   "outputs": [],
   "source": [
    "reload(sim)\n",
    "sim.plot_AORP(dt_sys, AORPS2[2], tjcps, pjcps, qBase, region)\n",
    "sim.save_plt('six_AORP_v5_L2.png')"
   ]
  },
  {
   "cell_type": "code",
   "execution_count": null,
   "id": "3ccab0da",
   "metadata": {},
   "outputs": [],
   "source": []
  }
 ],
 "metadata": {
  "kernelspec": {
   "display_name": "Python 3 (ipykernel)",
   "language": "python",
   "name": "python3"
  },
  "language_info": {
   "codemirror_mode": {
    "name": "ipython",
    "version": 3
   },
   "file_extension": ".py",
   "mimetype": "text/x-python",
   "name": "python",
   "nbconvert_exporter": "python",
   "pygments_lexer": "ipython3",
   "version": "3.8.10"
  }
 },
 "nbformat": 4,
 "nbformat_minor": 5
}
