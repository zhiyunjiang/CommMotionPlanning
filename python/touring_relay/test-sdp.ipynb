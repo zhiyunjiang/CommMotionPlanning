{
 "cells": [
  {
   "cell_type": "code",
   "execution_count": 34,
   "id": "f16470de",
   "metadata": {},
   "outputs": [],
   "source": [
    "import picos\n",
    "import numpy as np"
   ]
  },
  {
   "cell_type": "code",
   "execution_count": 89,
   "id": "76897b4c",
   "metadata": {},
   "outputs": [
    {
     "name": "stdout",
     "output_type": "stream",
     "text": [
      "[4×4] - PI^.5·P·PI^-.5 + q·qᵀ\n",
      "[[4×4] - PI^.5·P·PI^-.5 + q·qᵀ, I; I, X]\n",
      "Semidefinite Program\n",
      "  minimize 0.001·tr(X) + 0.999·piᵀ·(P⊙W)·1_n\n",
      "  over\n",
      "    4×4 real variable P, X\n",
      "  subject to\n",
      "    ([[4×4] - PI^.5·P·PI^-.5 + q·qᵀ, I; I, X] + [[4×4] -\n",
      "      PI^.5·P·PI^-.5 + q·qᵀ, I; I, X]ᵀ)/2 ≽ 0\n",
      "    P[i,:][0] + P[i,:][1] + P[i,:][2] + P[i,:][3] = 1 ∀ i ∈ [0…3]\n",
      "    0.i·P[j,k] = 0.l·P[k,j] ∀ (i,j,k,l) ∈\n",
      "      zip([25,25,…,5,125],[0,0,…,1,2],[1,2,…,3,3],[5,125,…,125,125])\n",
      "    P[i,j] ≤ 1 ∀ (i,j) ∈ zip([0,0,…,3,3],[1,2,…,1,2])\n",
      "    P[i,j] ≥ 0 ∀ (i,j) ∈ zip([0,0,…,3,3],[1,2,…,1,2])\n",
      "    P[i,i] = 0 ∀ i ∈ [0…3]\n"
     ]
    }
   ],
   "source": [
    "n = 4\n",
    "alpha = 0.001\n",
    "pi = np.array([0.25, 0.5, 1/8, 1/8])\n",
    "S = np.zeros((n,n))\n",
    "for i in range(n):\n",
    "    for j in range(n):\n",
    "        if i != j:\n",
    "            S[i,j] = i+j\n",
    "            \n",
    "\n",
    "model = picos.Problem()\n",
    "P = picos.RealVariable('P', (n,n))\n",
    "X = picos.RealVariable('X', (n,n))\n",
    "W = picos.Constant('W', S)\n",
    "v1 = picos.Constant('1_n', np.ones(n))\n",
    "q = picos.Constant('q', np.sqrt(pi))\n",
    "Pi = picos.Constant('pi', pi)\n",
    "\n",
    "\n",
    "PI_sqrt = picos.Constant('PI^.5', np.diag(np.sqrt(pi)))\n",
    "PI_negsqrt = picos.Constant('PI^-.5', np.diag(1/np.sqrt(pi)) )\n",
    "T = np.eye(n) - PI_sqrt*P*PI_negsqrt + q*q.T\n",
    "print(T)\n",
    "M = picos.block([[T, \"I\"],[\"I\", X]])\n",
    "print(M)\n",
    "model.set_objective('min', picos.min(alpha*picos.trace(X) +(1-alpha)*Pi.T*(P^W)*v1))\n",
    "\n",
    "#and now some constraints\n",
    "model.add_constraint(M.hermitianized >> 0)\n",
    "model.add_list_of_constraints([ sum(P[i,:]) == 1 for i in range(n)])\n",
    "model.add_list_of_constraints([ pi[i]*P[i,j]==pi[j]*P[j,i] for i in range(n) for j in range(i+1, n)])\n",
    "model.add_list_of_constraints([ P[i,j]<=1 for i in range(n) for j in range(n) if i!=j])\n",
    "model.add_list_of_constraints([ 0<=P[i,j] for i in range(n) for j in range(n) if i!=j])\n",
    "model.add_list_of_constraints([P[i,i]==0 for i in range(n)])\n",
    "print(model)"
   ]
  },
  {
   "cell_type": "code",
   "execution_count": 90,
   "id": "71cb73b9",
   "metadata": {},
   "outputs": [
    {
     "data": {
      "text/plain": [
       "<primal feasible solution pair (claimed optimal) from cvxopt>"
      ]
     },
     "execution_count": 90,
     "metadata": {},
     "output_type": "execute_result"
    }
   ],
   "source": [
    "model.solve()"
   ]
  },
  {
   "cell_type": "code",
   "execution_count": 91,
   "id": "46b19a72",
   "metadata": {},
   "outputs": [
    {
     "name": "stdout",
     "output_type": "stream",
     "text": [
      "[-7.08e-15  1.00e+00 -4.71e-12 -4.69e-12]\n",
      "[ 5.00e-01  2.67e-14  2.50e-01  2.50e-01]\n",
      "[-9.41e-12  1.00e+00 -4.53e-15  1.96e-11]\n",
      "[-9.41e-12  1.00e+00  1.96e-11 -5.33e-15]\n"
     ]
    }
   ],
   "source": [
    "print(P)"
   ]
  },
  {
   "cell_type": "code",
   "execution_count": 74,
   "id": "7255b9fb",
   "metadata": {},
   "outputs": [],
   "source": [
    "Pnp = np.array(P.value)"
   ]
  },
  {
   "cell_type": "code",
   "execution_count": 79,
   "id": "cf796422",
   "metadata": {},
   "outputs": [],
   "source": [
    "Pnp[Pnp<1e-10]=0\n"
   ]
  },
  {
   "cell_type": "code",
   "execution_count": 80,
   "id": "438e7be5",
   "metadata": {},
   "outputs": [
    {
     "data": {
      "text/plain": [
       "array([[0.00000000e+00, 1.00000000e+00, 0.00000000e+00, 0.00000000e+00],\n",
       "       [5.00000000e-01, 0.00000000e+00, 2.50000000e-01, 2.50000000e-01],\n",
       "       [0.00000000e+00, 1.00000000e+00, 0.00000000e+00, 3.84010385e-10],\n",
       "       [0.00000000e+00, 1.00000000e+00, 3.78657627e-10, 0.00000000e+00]])"
      ]
     },
     "execution_count": 80,
     "metadata": {},
     "output_type": "execute_result"
    }
   ],
   "source": [
    "Pnp"
   ]
  },
  {
   "cell_type": "code",
   "execution_count": 81,
   "id": "6d51f4f9",
   "metadata": {},
   "outputs": [],
   "source": [
    "for i in range(n):\n",
    "    Pnp[i,:]/=np.sum(Pnp[i,:])"
   ]
  },
  {
   "cell_type": "code",
   "execution_count": 82,
   "id": "0aec8606",
   "metadata": {},
   "outputs": [
    {
     "data": {
      "text/plain": [
       "array([[0.00000000e+00, 1.00000000e+00, 0.00000000e+00, 0.00000000e+00],\n",
       "       [5.00000000e-01, 0.00000000e+00, 2.50000000e-01, 2.50000000e-01],\n",
       "       [0.00000000e+00, 1.00000000e+00, 0.00000000e+00, 3.84010385e-10],\n",
       "       [0.00000000e+00, 1.00000000e+00, 3.78657627e-10, 0.00000000e+00]])"
      ]
     },
     "execution_count": 82,
     "metadata": {},
     "output_type": "execute_result"
    }
   ],
   "source": [
    "Pnp"
   ]
  },
  {
   "cell_type": "code",
   "execution_count": null,
   "id": "a9dbdb9b",
   "metadata": {},
   "outputs": [],
   "source": []
  }
 ],
 "metadata": {
  "kernelspec": {
   "display_name": "Python 3 (ipykernel)",
   "language": "python",
   "name": "python3"
  },
  "language_info": {
   "codemirror_mode": {
    "name": "ipython",
    "version": 3
   },
   "file_extension": ".py",
   "mimetype": "text/x-python",
   "name": "python",
   "nbconvert_exporter": "python",
   "pygments_lexer": "ipython3",
   "version": "3.8.10"
  }
 },
 "nbformat": 4,
 "nbformat_minor": 5
}
