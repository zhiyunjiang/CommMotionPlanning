{
 "cells": [
  {
   "cell_type": "code",
   "execution_count": 1,
   "id": "4eba3bca",
   "metadata": {},
   "outputs": [],
   "source": [
    "import numpy as np\n",
    "import sys  \n",
    "from pathlib import Path\n",
    "sys.path.insert(0, \"../polling_systems\")\n",
    "import StaticRP as SRP\n",
    "from importlib import reload "
   ]
  },
  {
   "cell_type": "code",
   "execution_count": 2,
   "id": "82b1df58",
   "metadata": {},
   "outputs": [
    {
     "data": {
      "text/plain": [
       "array([[  0, 100,  10,  50],\n",
       "       [100,   0,  90,  50],\n",
       "       [ 10,  90,   0,  40],\n",
       "       [ 50,  50,  40,   0]])"
      ]
     },
     "execution_count": 2,
     "metadata": {},
     "output_type": "execute_result"
    }
   ],
   "source": [
    "sequence = [1,2,3,0,1,2,3,0]\n",
    "\n",
    "D = np.array([[0,100, 10, 50 ],[100, 0, 90, 50],[10, 90, 0, 40],[50, 50, 40, 0]])\n",
    "D"
   ]
  },
  {
   "cell_type": "code",
   "execution_count": 3,
   "id": "34779def",
   "metadata": {
    "scrolled": false
   },
   "outputs": [
    {
     "data": {
      "text/plain": [
       "([1, 2, 0, 3, 1, 2, 0, 3], 400)"
      ]
     },
     "execution_count": 3,
     "metadata": {},
     "output_type": "execute_result"
    }
   ],
   "source": [
    "reload(SRP)\n",
    "opt = SRP.SeqDPOptimizer(sequence, D)\n",
    "opt.optimize()"
   ]
  },
  {
   "cell_type": "code",
   "execution_count": 4,
   "id": "85829abe",
   "metadata": {},
   "outputs": [
    {
     "data": {
      "text/plain": [
       "([0, 2, 3, 1, 0, 2, 1, 3, 1], 500)"
      ]
     },
     "execution_count": 4,
     "metadata": {},
     "output_type": "execute_result"
    }
   ],
   "source": [
    "sequence = [0,1,2,3,0,1,2,3,1]\n",
    "\n",
    "opt = SRP.SeqDPOptimizer(sequence, D)\n",
    "opt.optimize()"
   ]
  },
  {
   "cell_type": "code",
   "execution_count": null,
   "id": "e589b310",
   "metadata": {},
   "outputs": [],
   "source": []
  }
 ],
 "metadata": {
  "kernelspec": {
   "display_name": "Python 3 (ipykernel)",
   "language": "python",
   "name": "python3"
  },
  "language_info": {
   "codemirror_mode": {
    "name": "ipython",
    "version": 3
   },
   "file_extension": ".py",
   "mimetype": "text/x-python",
   "name": "python",
   "nbconvert_exporter": "python",
   "pygments_lexer": "ipython3",
   "version": "3.8.10"
  }
 },
 "nbformat": 4,
 "nbformat_minor": 5
}
