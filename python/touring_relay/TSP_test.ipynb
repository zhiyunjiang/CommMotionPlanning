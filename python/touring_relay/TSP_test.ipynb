{
 "cells": [
  {
   "cell_type": "code",
   "execution_count": 62,
   "id": "c6ec3d2b",
   "metadata": {},
   "outputs": [
    {
     "data": {
      "text/plain": [
       "<module 'TSP' from '/home/win/dev/CommMotionPlanning/python/touring_relay/TSP.py'>"
      ]
     },
     "execution_count": 62,
     "metadata": {},
     "output_type": "execute_result"
    }
   ],
   "source": [
    "from importlib import reload\n",
    "import TSP\n",
    "import numpy as np\n",
    "\n",
    "reload(TSP)"
   ]
  },
  {
   "cell_type": "code",
   "execution_count": 63,
   "id": "bc5baf65",
   "metadata": {
    "scrolled": false
   },
   "outputs": [
    {
     "name": "stdout",
     "output_type": "stream",
     "text": [
      "[[1.         0.         3.         4.         2.23606798 2.82842712\n",
      "  2.23606798 2.82842712]\n",
      " [0.         1.         2.         3.         1.41421356 2.23606798\n",
      "  1.41421356 2.23606798]\n",
      " [3.         4.         1.         0.         2.23606798 2.82842712\n",
      "  2.23606798 2.82842712]\n",
      " [2.         3.         0.         1.         1.41421356 2.23606798\n",
      "  1.41421356 2.23606798]\n",
      " [2.23606798 2.82842712 2.23606798 2.82842712 1.         0.\n",
      "  3.         4.        ]\n",
      " [1.41421356 2.23606798 1.41421356 2.23606798 0.         1.\n",
      "  2.         3.        ]\n",
      " [2.23606798 2.82842712 2.23606798 2.82842712 3.         4.\n",
      "  1.         0.        ]\n",
      " [1.41421356 2.23606798 1.41421356 2.23606798 2.         3.\n",
      "  0.         1.        ]]\n",
      "Objective: 4 miles\n",
      "Route for vehicle 0:\n",
      " 0 -> 1 -> 6 -> 7 -> 2 -> 3 -> 4 -> 5 -> 0\n",
      "\n",
      "Route 0 [0, 1, 6, 7, 2, 3, 4, 5, 0]\n",
      "Route 1 [0, 1, 6, 7, 2, 3, 4, 5, 0]\n",
      "Route 2 [0, 1, 6, 7, 2, 3, 4, 5, 0]\n",
      "Route 3 [0, 1, 6, 7, 2, 3, 4, 5, 0]\n",
      "Route 4 [0, 1, 6, 7, 2, 3, 4, 5, 0]\n",
      "Route 5 [0, 1, 6, 7, 2, 3, 4, 5, 0]\n",
      "Route 6 [0, 1, 6, 7, 2, 3, 4, 5, 0]\n",
      "Route 7 [0, 1, 6, 7, 2, 3, 4, 5, 0]\n"
     ]
    }
   ],
   "source": [
    "pt_lists = np.array([[[0,1], [0,2]], [[0,-1], [0,-2]], [[1,0],[2,0]], [[-1,0],[-2,0]]])\n",
    "\n",
    "TSP.calcGTSPPolicy(pt_lists)"
   ]
  },
  {
   "cell_type": "code",
   "execution_count": null,
   "id": "1620a3f1",
   "metadata": {},
   "outputs": [],
   "source": []
  }
 ],
 "metadata": {
  "kernelspec": {
   "display_name": "Python 3",
   "language": "python",
   "name": "python3"
  },
  "language_info": {
   "codemirror_mode": {
    "name": "ipython",
    "version": 3
   },
   "file_extension": ".py",
   "mimetype": "text/x-python",
   "name": "python",
   "nbconvert_exporter": "python",
   "pygments_lexer": "ipython3",
   "version": "3.8.10"
  }
 },
 "nbformat": 4,
 "nbformat_minor": 5
}
