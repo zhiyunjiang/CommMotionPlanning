{
 "cells": [
  {
   "cell_type": "code",
   "execution_count": 15,
   "metadata": {},
   "outputs": [],
   "source": [
    "import pyomo.environ as pymo\n",
    "import numpy as np"
   ]
  },
  {
   "cell_type": "code",
   "execution_count": 23,
   "metadata": {},
   "outputs": [],
   "source": [
    "n_regions = 5\n",
    "pi = [1/n_regions for i in range(n_regions)]\n",
    "\n",
    "model = None\n",
    "model = pymo.ConcreteModel()\n",
    "\n",
    "#some parameters\n",
    "#model.n = pymo.Param(mutable=True)\n",
    "model.n = n_regions\n",
    "\n",
    "#model.pi = pymo.Param([i for i in range(n_regions)])#, mutuable=True)\n",
    "model.pi = pi\n",
    "\n",
    "XMIN = 0; XMAX=50; YMIN=0; YMAX=50\n",
    "#add x and y variables\n",
    "model.x = pymo.Var([i for i in range(n_regions)], bounds=(XMIN, XMAX))\n",
    "model.y = pymo.Var([i for i in range(n_regions)], bounds=(YMIN, YMAX))\n",
    "\n",
    "#model.s = pymo.Var([i for i in range(int(n_regions*(n_regions+1)/2))])\n",
    "\n",
    "# def AvgSwtichingTime(model):\n",
    "#     terms = [ model.pi[i]*model.pi[j]*model.s[i] for i in range(model.n) for j in range(i+1, model.n)]\n",
    "#     return sum(terms)\n",
    "\n",
    "def AvgSwtichingTime(model):\n",
    "    terms = [ model.pi[i]*model.pi[j]*((model.x[i]-model.x[j])**2 + (model.y[i]-model.y[j])**2)**0.5 for i in range(model.n) for j in range(i+1, model.n)]\n",
    "    return sum(terms)\n",
    "\n",
    "model.objective = pymo.Objective(rule=AvgSwtichingTime)\n",
    "\n",
    "#constrain (x,y) to be in relay regions\n",
    "mks = [mk for reg in self.cregions]\n",
    "eta_idxs = np.cumsum(mks)\n",
    "model.eta = pymo.Var([i in range(eta_idxs[-1])], domain=pymo.Binary)\n",
    "\n",
    "def regional_constraint(model, start, end):\n",
    "    return (sum(model.eta[start:end]) >= 1)\n",
    "\n",
    "model.InRegions=pymo.ConstraintList()\n",
    "#at least one must be set\n",
    "start = 0\n",
    "end = 0\n",
    "for i in range(n_regions):\n",
    "    start = end\n",
    "    end = eta_idxs[i]\n",
    "    model.InRegions.add(model.eta[start:end] >= 1)\n",
    "    \n",
    "#and finally, our hefty linear constraints\n",
    "    \n",
    "def PolyBoundary(model, Aik, bik, i, j, l):\n",
    "    return (Aik[j,0]*model.x[i] + Aik[j,1]*model.y[i] +C*model.eta[l] <= bik[j,0])\n",
    "    \n",
    "C = 10000 #actually need to find a value of this constant\n",
    "l = 0\n",
    "for i in range(n_regions):\n",
    "    reg = self.cregions[i]\n",
    "    for poly in reg.polygons:\n",
    "        for cnvx in poly.cnvx_partition:\n",
    "            Aik, bik = cnvx.to_linear_constraints()\n",
    "            bik[:,0] += C\n",
    "            \n",
    "            for j in range(len(bik)):\n",
    "                model.Constraint(rule=lambda model: PolyBoundary(model, Aik, bik, i, j, l))\n",
    "            l+=1"
   ]
  },
  {
   "cell_type": "code",
   "execution_count": 5,
   "metadata": {},
   "outputs": [
    {
     "data": {
      "text/plain": [
       "<pyomo.core.base.PyomoModel.ConcreteModel at 0x7ffb81f2ae80>"
      ]
     },
     "execution_count": 5,
     "metadata": {},
     "output_type": "execute_result"
    }
   ],
   "source": [
    "model"
   ]
  },
  {
   "cell_type": "code",
   "execution_count": null,
   "metadata": {},
   "outputs": [],
   "source": []
  }
 ],
 "metadata": {
  "kernelspec": {
   "display_name": "Python 3 (ipykernel)",
   "language": "python",
   "name": "python3"
  },
  "language_info": {
   "codemirror_mode": {
    "name": "ipython",
    "version": 3
   },
   "file_extension": ".py",
   "mimetype": "text/x-python",
   "name": "python",
   "nbconvert_exporter": "python",
   "pygments_lexer": "ipython3",
   "version": "3.8.10"
  }
 },
 "nbformat": 4,
 "nbformat_minor": 4
}
